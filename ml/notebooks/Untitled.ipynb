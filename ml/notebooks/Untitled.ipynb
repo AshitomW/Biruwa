{
 "cells": [
  {
   "cell_type": "markdown",
   "id": "cc2e7e57",
   "metadata": {},
   "source": [
    "# MCSC"
   ]
  },
  {
   "cell_type": "code",
   "execution_count": null,
   "id": "30485d17",
   "metadata": {},
   "outputs": [
    {
     "name": "stdout",
     "output_type": "stream",
     "text": [
      "second:-)day:-)at:-)the\n"
     ]
    }
   ],
   "source": [
    "print(\"second\",\"day\",\"at\",\"the\",\"workshop\",sep=\":-)\")"
   ]
  },
  {
   "cell_type": "markdown",
   "id": "6fead20f",
   "metadata": {},
   "source": []
  },
  {
   "cell_type": "code",
   "execution_count": null,
   "id": "bfc37d59",
   "metadata": {},
   "outputs": [
    {
     "name": "stdout",
     "output_type": "stream",
     "text": [
      "----0.5----\n"
     ]
    },
    {
     "ename": "ValueError",
     "evalue": "Invalid format specifier '.3f ' for object of type 'float'",
     "output_type": "error",
     "traceback": [
      "\u001b[0;31m---------------------------------------------------------------------------\u001b[0m",
      "\u001b[0;31mValueError\u001b[0m                                Traceback (most recent call last)",
      "Cell \u001b[0;32mIn[43], line 17\u001b[0m\n\u001b[1;32m     10\u001b[0m     \u001b[38;5;28;01mreturn\u001b[39;00m calulatedVelocity\n\u001b[1;32m     16\u001b[0m \u001b[38;5;28mprint\u001b[39m(\u001b[38;5;124m\"\u001b[39m\u001b[38;5;124m----0.5----\u001b[39m\u001b[38;5;124m\"\u001b[39m)\n\u001b[0;32m---> 17\u001b[0m \u001b[38;5;28mprint\u001b[39m(\u001b[38;5;124mf\u001b[39m\u001b[38;5;124m\"\u001b[39m\u001b[38;5;124mcalculated height = \u001b[39m\u001b[38;5;132;01m{\u001b[39;00mCalculateHeight(intialHeight\u001b[38;5;241m=\u001b[39minitialH,initialVelocity\u001b[38;5;241m=\u001b[39minitialV,time\u001b[38;5;241m=\u001b[39m\u001b[38;5;241m0.5\u001b[39m)\u001b[38;5;132;01m:\u001b[39;00m\u001b[38;5;124m.3f \u001b[39m\u001b[38;5;132;01m}\u001b[39;00m\u001b[38;5;124m m\u001b[39m\u001b[38;5;124m\"\u001b[39m)\n\u001b[1;32m     18\u001b[0m \u001b[38;5;28mprint\u001b[39m(\u001b[38;5;124mf\u001b[39m\u001b[38;5;124m\"\u001b[39m\u001b[38;5;124mcalculated velocity  = \u001b[39m\u001b[38;5;132;01m{\u001b[39;00mCalculateVelocity(initialVelocity\u001b[38;5;250m \u001b[39m\u001b[38;5;241m=\u001b[39m\u001b[38;5;250m \u001b[39minitialV,time\u001b[38;5;241m=\u001b[39m\u001b[38;5;241m0.5\u001b[39m)\u001b[38;5;132;01m}\u001b[39;00m\u001b[38;5;124m m/s\u001b[39m\u001b[38;5;124m\"\u001b[39m)\n\u001b[1;32m     20\u001b[0m \u001b[38;5;28mprint\u001b[39m(\u001b[38;5;124m\"\u001b[39m\u001b[38;5;124m----2----\u001b[39m\u001b[38;5;124m\"\u001b[39m)\n",
      "\u001b[0;31mValueError\u001b[0m: Invalid format specifier '.3f ' for object of type 'float'"
     ]
    }
   ],
   "source": [
    "accGravity = 9.8\n",
    "initialH = 1.2\n",
    "initialV = 5.4\n",
    "def CalculateHeight(intialHeight , initialVelocity, time):\n",
    "    calculatedHeight = intialHeight + (initialVelocity* time) - (0.5 * accGravity * (time**2))\n",
    "    return calculatedHeight\n",
    "\n",
    "def CalculateVelocity(initialVelocity, time):\n",
    "    calulatedVelocity = initialVelocity + (accGravity * time)\n",
    "    return calulatedVelocity\n",
    "\n",
    "\n",
    "\n",
    "\n",
    "\n",
    "print(\"----0.5----\")\n",
    "print(f\"calculated height = {CalculateHeight(intialHeight=initialH,initialVelocity=initialV,time=0.5)} m\")\n",
    "print(f\"calculated velocity  = {CalculateVelocity(initialVelocity = initialV,time=0.5)} m/s\")\n",
    "\n",
    "print(\"----2----\")\n",
    "print(f\"calculated height = {CalculateHeight(intialHeight = initialH,initialVelocity= initialV,time=2)} m\")\n",
    "print(f\"calculated velocity  = {CalculateVelocity(initialVelocity=initialV,time=2)} m/s\")\n"
   ]
  },
  {
   "cell_type": "code",
   "execution_count": null,
   "id": "26ea1366",
   "metadata": {},
   "outputs": [],
   "source": []
  },
  {
   "cell_type": "code",
   "execution_count": null,
   "id": "e40d8172",
   "metadata": {},
   "outputs": [],
   "source": []
  }
 ],
 "metadata": {
  "kernelspec": {
   "display_name": "venv",
   "language": "python",
   "name": "python3"
  },
  "language_info": {
   "codemirror_mode": {
    "name": "ipython",
    "version": 3
   },
   "file_extension": ".py",
   "mimetype": "text/x-python",
   "name": "python",
   "nbconvert_exporter": "python",
   "pygments_lexer": "ipython3",
   "version": "3.11.1"
  }
 },
 "nbformat": 4,
 "nbformat_minor": 5
}
